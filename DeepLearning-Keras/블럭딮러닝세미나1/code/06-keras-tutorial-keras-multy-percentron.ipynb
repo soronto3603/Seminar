{
 "cells": [
  {
   "cell_type": "code",
   "execution_count": 4,
   "metadata": {},
   "outputs": [
    {
     "name": "stderr",
     "output_type": "stream",
     "text": [
      "/usr/local/lib/python3.6/site-packages/ipykernel_launcher.py:6: UserWarning: Update your `Dense` call to the Keras 2 API: `Dense(8, input_dim=4, activation=\"relu\", kernel_initializer=\"uniform\")`\n",
      "  \n",
      "/usr/local/lib/python3.6/site-packages/ipykernel_launcher.py:7: UserWarning: Update your `Dense` call to the Keras 2 API: `Dense(6, activation=\"relu\", kernel_initializer=\"uniform\")`\n",
      "  import sys\n",
      "/usr/local/lib/python3.6/site-packages/ipykernel_launcher.py:8: UserWarning: Update your `Dense` call to the Keras 2 API: `Dense(1, activation=\"sigmoid\", kernel_initializer=\"uniform\")`\n",
      "  \n"
     ]
    }
   ],
   "source": [
    "from keras.models import Sequential\n",
    "from keras.layers import Dense\n",
    "\n",
    "model = Sequential()\n",
    "\n",
    "model.add(Dense(8, input_dim=4, init='uniform', activation='relu'))\n",
    "model.add(Dense(6, init='uniform', activation='relu'))\n",
    "model.add(Dense(1, init='uniform', activation='sigmoid'))"
   ]
  },
  {
   "cell_type": "code",
   "execution_count": 5,
   "metadata": {},
   "outputs": [
    {
     "data": {
      "image/svg+xml": [
       "<svg height=\"288pt\" viewBox=\"0.00 0.00 237.57 288.00\" width=\"238pt\" xmlns=\"http://www.w3.org/2000/svg\" xmlns:xlink=\"http://www.w3.org/1999/xlink\">\n",
       "<g class=\"graph\" id=\"graph0\" transform=\"scale(1 1) rotate(0) translate(4 284)\">\n",
       "<title>G</title>\n",
       "<polygon fill=\"#ffffff\" points=\"-4,4 -4,-284 233.5693,-284 233.5693,4 -4,4\" stroke=\"transparent\"/>\n",
       "<!-- 4885018048 -->\n",
       "<g class=\"node\" id=\"node1\">\n",
       "<title>4885018048</title>\n",
       "<polygon fill=\"none\" points=\"0,-162.5 0,-206.5 229.5693,-206.5 229.5693,-162.5 0,-162.5\" stroke=\"#000000\"/>\n",
       "<text fill=\"#000000\" font-family=\"Times,serif\" font-size=\"14.00\" text-anchor=\"middle\" x=\"52.126\" y=\"-180.3\">dense_4: Dense</text>\n",
       "<polyline fill=\"none\" points=\"104.252,-162.5 104.252,-206.5 \" stroke=\"#000000\"/>\n",
       "<text fill=\"#000000\" font-family=\"Times,serif\" font-size=\"14.00\" text-anchor=\"middle\" x=\"132.0864\" y=\"-191.3\">input:</text>\n",
       "<polyline fill=\"none\" points=\"104.252,-184.5 159.9209,-184.5 \" stroke=\"#000000\"/>\n",
       "<text fill=\"#000000\" font-family=\"Times,serif\" font-size=\"14.00\" text-anchor=\"middle\" x=\"132.0864\" y=\"-169.3\">output:</text>\n",
       "<polyline fill=\"none\" points=\"159.9209,-162.5 159.9209,-206.5 \" stroke=\"#000000\"/>\n",
       "<text fill=\"#000000\" font-family=\"Times,serif\" font-size=\"14.00\" text-anchor=\"middle\" x=\"194.7451\" y=\"-191.3\">(None, 4)</text>\n",
       "<polyline fill=\"none\" points=\"159.9209,-184.5 229.5693,-184.5 \" stroke=\"#000000\"/>\n",
       "<text fill=\"#000000\" font-family=\"Times,serif\" font-size=\"14.00\" text-anchor=\"middle\" x=\"194.7451\" y=\"-169.3\">(None, 8)</text>\n",
       "</g>\n",
       "<!-- 4885018160 -->\n",
       "<g class=\"node\" id=\"node2\">\n",
       "<title>4885018160</title>\n",
       "<polygon fill=\"none\" points=\"0,-81.5 0,-125.5 229.5693,-125.5 229.5693,-81.5 0,-81.5\" stroke=\"#000000\"/>\n",
       "<text fill=\"#000000\" font-family=\"Times,serif\" font-size=\"14.00\" text-anchor=\"middle\" x=\"52.126\" y=\"-99.3\">dense_5: Dense</text>\n",
       "<polyline fill=\"none\" points=\"104.252,-81.5 104.252,-125.5 \" stroke=\"#000000\"/>\n",
       "<text fill=\"#000000\" font-family=\"Times,serif\" font-size=\"14.00\" text-anchor=\"middle\" x=\"132.0864\" y=\"-110.3\">input:</text>\n",
       "<polyline fill=\"none\" points=\"104.252,-103.5 159.9209,-103.5 \" stroke=\"#000000\"/>\n",
       "<text fill=\"#000000\" font-family=\"Times,serif\" font-size=\"14.00\" text-anchor=\"middle\" x=\"132.0864\" y=\"-88.3\">output:</text>\n",
       "<polyline fill=\"none\" points=\"159.9209,-81.5 159.9209,-125.5 \" stroke=\"#000000\"/>\n",
       "<text fill=\"#000000\" font-family=\"Times,serif\" font-size=\"14.00\" text-anchor=\"middle\" x=\"194.7451\" y=\"-110.3\">(None, 8)</text>\n",
       "<polyline fill=\"none\" points=\"159.9209,-103.5 229.5693,-103.5 \" stroke=\"#000000\"/>\n",
       "<text fill=\"#000000\" font-family=\"Times,serif\" font-size=\"14.00\" text-anchor=\"middle\" x=\"194.7451\" y=\"-88.3\">(None, 6)</text>\n",
       "</g>\n",
       "<!-- 4885018048&#45;&gt;4885018160 -->\n",
       "<g class=\"edge\" id=\"edge2\">\n",
       "<title>4885018048-&gt;4885018160</title>\n",
       "<path d=\"M114.7847,-162.3664C114.7847,-154.1516 114.7847,-144.6579 114.7847,-135.7252\" fill=\"none\" stroke=\"#000000\"/>\n",
       "<polygon fill=\"#000000\" points=\"118.2848,-135.6068 114.7847,-125.6068 111.2848,-135.6069 118.2848,-135.6068\" stroke=\"#000000\"/>\n",
       "</g>\n",
       "<!-- 4885018664 -->\n",
       "<g class=\"node\" id=\"node3\">\n",
       "<title>4885018664</title>\n",
       "<polygon fill=\"none\" points=\"0,-.5 0,-44.5 229.5693,-44.5 229.5693,-.5 0,-.5\" stroke=\"#000000\"/>\n",
       "<text fill=\"#000000\" font-family=\"Times,serif\" font-size=\"14.00\" text-anchor=\"middle\" x=\"52.126\" y=\"-18.3\">dense_6: Dense</text>\n",
       "<polyline fill=\"none\" points=\"104.252,-.5 104.252,-44.5 \" stroke=\"#000000\"/>\n",
       "<text fill=\"#000000\" font-family=\"Times,serif\" font-size=\"14.00\" text-anchor=\"middle\" x=\"132.0864\" y=\"-29.3\">input:</text>\n",
       "<polyline fill=\"none\" points=\"104.252,-22.5 159.9209,-22.5 \" stroke=\"#000000\"/>\n",
       "<text fill=\"#000000\" font-family=\"Times,serif\" font-size=\"14.00\" text-anchor=\"middle\" x=\"132.0864\" y=\"-7.3\">output:</text>\n",
       "<polyline fill=\"none\" points=\"159.9209,-.5 159.9209,-44.5 \" stroke=\"#000000\"/>\n",
       "<text fill=\"#000000\" font-family=\"Times,serif\" font-size=\"14.00\" text-anchor=\"middle\" x=\"194.7451\" y=\"-29.3\">(None, 6)</text>\n",
       "<polyline fill=\"none\" points=\"159.9209,-22.5 229.5693,-22.5 \" stroke=\"#000000\"/>\n",
       "<text fill=\"#000000\" font-family=\"Times,serif\" font-size=\"14.00\" text-anchor=\"middle\" x=\"194.7451\" y=\"-7.3\">(None, 1)</text>\n",
       "</g>\n",
       "<!-- 4885018160&#45;&gt;4885018664 -->\n",
       "<g class=\"edge\" id=\"edge3\">\n",
       "<title>4885018160-&gt;4885018664</title>\n",
       "<path d=\"M114.7847,-81.3664C114.7847,-73.1516 114.7847,-63.6579 114.7847,-54.7252\" fill=\"none\" stroke=\"#000000\"/>\n",
       "<polygon fill=\"#000000\" points=\"118.2848,-54.6068 114.7847,-44.6068 111.2848,-54.6069 118.2848,-54.6068\" stroke=\"#000000\"/>\n",
       "</g>\n",
       "<!-- 4885018272 -->\n",
       "<g class=\"node\" id=\"node4\">\n",
       "<title>4885018272</title>\n",
       "<polygon fill=\"none\" points=\"71.7847,-243.5 71.7847,-279.5 157.7847,-279.5 157.7847,-243.5 71.7847,-243.5\" stroke=\"#000000\"/>\n",
       "<text fill=\"#000000\" font-family=\"Times,serif\" font-size=\"14.00\" text-anchor=\"middle\" x=\"114.7847\" y=\"-257.3\">4885018272</text>\n",
       "</g>\n",
       "<!-- 4885018272&#45;&gt;4885018048 -->\n",
       "<g class=\"edge\" id=\"edge1\">\n",
       "<title>4885018272-&gt;4885018048</title>\n",
       "<path d=\"M114.7847,-243.2521C114.7847,-235.3888 114.7847,-225.9498 114.7847,-216.9612\" fill=\"none\" stroke=\"#000000\"/>\n",
       "<polygon fill=\"#000000\" points=\"118.2848,-216.7376 114.7847,-206.7377 111.2848,-216.7377 118.2848,-216.7376\" stroke=\"#000000\"/>\n",
       "</g>\n",
       "</g>\n",
       "</svg>"
      ],
      "text/plain": [
       "<IPython.core.display.SVG object>"
      ]
     },
     "execution_count": 5,
     "metadata": {},
     "output_type": "execute_result"
    }
   ],
   "source": [
    "from IPython.display import SVG\n",
    "# from keras.utils.visualize_util import model_to_dot\n",
    "from keras.utils.vis_utils import model_to_dot\n",
    "\n",
    "SVG(model_to_dot(model, show_shapes=True).create(prog='dot', format='svg'))"
   ]
  },
  {
   "cell_type": "code",
   "execution_count": null,
   "metadata": {},
   "outputs": [],
   "source": []
  }
 ],
 "metadata": {
  "kernelspec": {
   "display_name": "Python 3",
   "language": "python",
   "name": "python3"
  },
  "language_info": {
   "codemirror_mode": {
    "name": "ipython",
    "version": 3
   },
   "file_extension": ".py",
   "mimetype": "text/x-python",
   "name": "python",
   "nbconvert_exporter": "python",
   "pygments_lexer": "ipython3",
   "version": "3.6.5"
  }
 },
 "nbformat": 4,
 "nbformat_minor": 2
}
